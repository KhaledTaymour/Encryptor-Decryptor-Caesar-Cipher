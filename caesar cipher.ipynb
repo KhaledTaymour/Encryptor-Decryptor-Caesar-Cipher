{
 "cells": [
  {
   "cell_type": "code",
   "execution_count": 1,
   "metadata": {},
   "outputs": [],
   "source": [
    "# A Helper class is created to be as an interface to make use of the functionalities as\n",
    "# * encrypt\n",
    "# * decrypt\n",
    "# * bruteForceCipher\n",
    "\n",
    "#importing that Helper class\n",
    "from helper import Helper\n",
    "\n",
    "# creating an instance of the Helper Class\n",
    "helper = Helper()"
   ]
  },
  {
   "cell_type": "code",
   "execution_count": 2,
   "metadata": {},
   "outputs": [],
   "source": [
    "textToEncrypt = 'The duke spent 16 years modifying this particular model'"
   ]
  },
  {
   "cell_type": "code",
   "execution_count": 3,
   "metadata": {},
   "outputs": [
    {
     "data": {
      "text/plain": [
       "'Ymj izpj xujsy 16 djfwx rtinkdnsl ymnx ufwynhzqfw rtijq'"
      ]
     },
     "execution_count": 3,
     "metadata": {},
     "output_type": "execute_result"
    }
   ],
   "source": [
    "# helper.encrypt(textToEncrypt, 5)\n",
    "helper.encrypt(textToEncrypt, 5)"
   ]
  },
  {
   "cell_type": "code",
   "execution_count": 4,
   "metadata": {},
   "outputs": [
    {
     "data": {
      "text/plain": [
       "'The duke spent 16 years modifying this particular model'"
      ]
     },
     "execution_count": 4,
     "metadata": {},
     "output_type": "execute_result"
    }
   ],
   "source": [
    "# helper.decrypt('Ymj izpj xujsy 16 djfwx rtinkdnsl ymnx ufwynhzqfw rtijq', 5)\n",
    "helper.decrypt('Ymj izpj xujsy 16 djfwx rtinkdnsl ymnx ufwynhzqfw rtijq', 5)"
   ]
  },
  {
   "cell_type": "code",
   "execution_count": 5,
   "metadata": {},
   "outputs": [
    {
     "name": "stdout",
     "output_type": "stream",
     "text": [
      "Key to decrypt: 5\n",
      "decrypted Text: The duke spent 16 years modifying this particular model\n"
     ]
    }
   ],
   "source": [
    "# helper.bruteForceCipher('Ymj izpj xujsy 16 djfwx rtinkdnsl ymnx ufwynhzqfw rtijq')\n",
    "helper.bruteForceCipher('Ymj izpj xujsy 16 djfwx rtinkdnsl ymnx ufwynhzqfw rtijq')"
   ]
  }
 ],
 "metadata": {
  "kernelspec": {
   "display_name": "Python 3",
   "language": "python",
   "name": "python3"
  },
  "language_info": {
   "codemirror_mode": {
    "name": "ipython",
    "version": 3
   },
   "file_extension": ".py",
   "mimetype": "text/x-python",
   "name": "python",
   "nbconvert_exporter": "python",
   "pygments_lexer": "ipython3",
   "version": "3.8.5"
  }
 },
 "nbformat": 4,
 "nbformat_minor": 4
}
